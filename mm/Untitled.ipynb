{
 "cells": [
  {
   "cell_type": "code",
   "execution_count": 30,
   "id": "f650a976",
   "metadata": {},
   "outputs": [
    {
     "ename": "AttributeError",
     "evalue": "'NoneType' object has no attribute 'path'",
     "output_type": "error",
     "traceback": [
      "\u001b[1;31m---------------------------------------------------------------------------\u001b[0m",
      "\u001b[1;31mAttributeError\u001b[0m                            Traceback (most recent call last)",
      "Input \u001b[1;32mIn [30]\u001b[0m, in \u001b[0;36m<cell line: 50>\u001b[1;34m()\u001b[0m\n\u001b[0;32m     50\u001b[0m \u001b[38;5;28;01mif\u001b[39;00m \u001b[38;5;18m__name__\u001b[39m \u001b[38;5;241m==\u001b[39m \u001b[38;5;124m'\u001b[39m\u001b[38;5;124m__main__\u001b[39m\u001b[38;5;124m'\u001b[39m:\n\u001b[0;32m     51\u001b[0m     args \u001b[38;5;241m=\u001b[39m parse_args()\n\u001b[1;32m---> 52\u001b[0m     doctr2coco(\u001b[43margs\u001b[49m\u001b[38;5;241;43m.\u001b[39;49m\u001b[43mpath\u001b[49m)\n",
      "\u001b[1;31mAttributeError\u001b[0m: 'NoneType' object has no attribute 'path'"
     ]
    }
   ],
   "source": [
    "import argparse\n",
    "import mmcv\n",
    "import numpy as np\n",
    "\n",
    "\n",
    "def doctr2coco(path):\n",
    "    data_infos = mmcv.load(path + '/labels.json')\n",
    "\n",
    "    annotations = []\n",
    "    images = []\n",
    "    obj_count = 0\n",
    "    for idx, filename in enumerate(mmcv.track_iter_progress(data_infos.keys())):\n",
    "        image = data_infos[filename]\n",
    "\n",
    "        height, width = mmcv.imread(path + '/images/' + filename).shape[:2]\n",
    "\n",
    "        images.append(dict(\n",
    "            id=idx,\n",
    "            file_name=filename,\n",
    "            height=height,\n",
    "            width=width))\n",
    "\n",
    "        for anno in image['polygons']:\n",
    "\n",
    "            x_min, y_min, x_max, y_max = anno[0][0], anno[0][1], anno[1][0], anno[1][1],\n",
    "            \n",
    "            data_anno = dict(\n",
    "                image_id=idx,\n",
    "                id=obj_count,\n",
    "                category_id=0,\n",
    "                bbox=[x_min, y_min, x_max - x_min, y_max - y_min],\n",
    "                area=(x_max - x_min) * (y_max - y_min),\n",
    "                segmentation=None,\n",
    "                iscrowd=0)\n",
    "            annotations.append(data_anno)\n",
    "            obj_count += 1\n",
    "\n",
    "    coco_format_json = dict(\n",
    "        images=images,\n",
    "        annotations=annotations,\n",
    "        categories=[{'id': 0, 'name': 't'}])\n",
    "    mmcv.dump(coco_format_json, path + '/coco.json')\n",
    "\n",
    "def parse_args():\n",
    "    import argparse\n",
    "    parser = argparse.ArgumentParser(description='doctr format to coco')\n",
    "    parser.add_argument('path', type=str, help='path to text_detection/train(or val) folder')\n",
    "    \n",
    "\n",
    "if __name__ == '__main__':\n",
    "    args = parse_args()\n",
    "    doctr2coco(args.path)"
   ]
  },
  {
   "cell_type": "code",
   "execution_count": 33,
   "id": "3ff030c5",
   "metadata": {},
   "outputs": [
    {
     "name": "stdout",
     "output_type": "stream",
     "text": [
      "[>>>>>>>>>>>>>>>>>>>>>>>>>>>>>>>>>>>>>>>>>>>>>>>>>>] 33/33, 111.9 task/s, elapsed: 0s, ETA:     0s\n"
     ]
    }
   ],
   "source": [
    "doctr2coco(r\"C:\\Users\\Travvy\\Desktop\\isp\\stamps\\TextDetectionTraining\\data\\text_detection\\val\")"
   ]
  },
  {
   "cell_type": "code",
   "execution_count": null,
   "id": "ba962bdd",
   "metadata": {},
   "outputs": [],
   "source": [
    "data_infos = mmcv.load(r\"C:\\Users\\Travvy\\Desktop\\isp\\stamps\\TextDetectionTraining\\data\\text_detection\\val\\c\")"
   ]
  }
 ],
 "metadata": {
  "kernelspec": {
   "display_name": "Python 3 (ipykernel)",
   "language": "python",
   "name": "python3"
  },
  "language_info": {
   "codemirror_mode": {
    "name": "ipython",
    "version": 3
   },
   "file_extension": ".py",
   "mimetype": "text/x-python",
   "name": "python",
   "nbconvert_exporter": "python",
   "pygments_lexer": "ipython3",
   "version": "3.10.4"
  }
 },
 "nbformat": 4,
 "nbformat_minor": 5
}
