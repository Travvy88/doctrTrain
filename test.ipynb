{
 "cells": [
  {
   "cell_type": "code",
   "execution_count": 5,
   "id": "f1faa827",
   "metadata": {},
   "outputs": [
    {
     "ename": "TypeError",
     "evalue": "int() argument must be a string, a bytes-like object or a number, not 'list'",
     "output_type": "error",
     "traceback": [
      "\u001b[1;31m---------------------------------------------------------------------------\u001b[0m",
      "\u001b[1;31mTypeError\u001b[0m                                 Traceback (most recent call last)",
      "Input \u001b[1;32mIn [5]\u001b[0m, in \u001b[0;36m<cell line: 12>\u001b[1;34m()\u001b[0m\n\u001b[0;32m     10\u001b[0m info \u001b[38;5;241m=\u001b[39m data[name]\n\u001b[0;32m     12\u001b[0m \u001b[38;5;28;01mfor\u001b[39;00m i, bbox \u001b[38;5;129;01min\u001b[39;00m \u001b[38;5;28menumerate\u001b[39m(info[\u001b[38;5;124m'\u001b[39m\u001b[38;5;124mpolygons\u001b[39m\u001b[38;5;124m'\u001b[39m]):\n\u001b[0;32m     13\u001b[0m     \u001b[38;5;66;03m# , y, h, w = bbox['x'], bbox['y'], bbox['height'], bbox['width']\u001b[39;00m\n\u001b[1;32m---> 15\u001b[0m     x1 \u001b[38;5;241m=\u001b[39m \u001b[38;5;28;43mint\u001b[39;49m\u001b[43m(\u001b[49m\u001b[43mbbox\u001b[49m\u001b[43m[\u001b[49m\u001b[38;5;241;43m0\u001b[39;49m\u001b[43m]\u001b[49m\u001b[43m)\u001b[49m\n\u001b[0;32m     16\u001b[0m     y1 \u001b[38;5;241m=\u001b[39m \u001b[38;5;28mint\u001b[39m(bbox[\u001b[38;5;241m1\u001b[39m])\n\u001b[0;32m     17\u001b[0m     x2 \u001b[38;5;241m=\u001b[39m \u001b[38;5;28mint\u001b[39m(bbox[\u001b[38;5;241m2\u001b[39m])\n",
      "\u001b[1;31mTypeError\u001b[0m: int() argument must be a string, a bytes-like object or a number, not 'list'"
     ]
    }
   ],
   "source": [
    "import json \n",
    "\n",
    "with open(r\"C:\\Users\\Travvy\\Desktop\\isp\\stamps\\TextDetectionTraining\\data\\text_detection\\train\\labels.json\", 'r') as f:\n",
    "    data = json.load(f)\n",
    "\n",
    "data['87_1_stamp.png']\n",
    "for key in data.keys():\n",
    "    d = np.array(data[key]['polygons'])\n",
    "    if len(d.shape) != 3:\n",
    "        print(key)\n"
   ]
  },
  {
   "cell_type": "code",
   "execution_count": null,
   "id": "1edcdc82",
   "metadata": {},
   "outputs": [],
   "source": []
  }
 ],
 "metadata": {
  "kernelspec": {
   "display_name": "Python 3 (ipykernel)",
   "language": "python",
   "name": "python3"
  },
  "language_info": {
   "codemirror_mode": {
    "name": "ipython",
    "version": 3
   },
   "file_extension": ".py",
   "mimetype": "text/x-python",
   "name": "python",
   "nbconvert_exporter": "python",
   "pygments_lexer": "ipython3",
   "version": "3.9.12"
  }
 },
 "nbformat": 4,
 "nbformat_minor": 5
}
